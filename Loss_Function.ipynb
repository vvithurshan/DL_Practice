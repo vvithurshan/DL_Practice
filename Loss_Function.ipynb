{
  "nbformat": 4,
  "nbformat_minor": 0,
  "metadata": {
    "colab": {
      "provenance": [],
      "authorship_tag": "ABX9TyPkGGjiZJofLGmSm7aDNW9p",
      "include_colab_link": true
    },
    "kernelspec": {
      "name": "python3",
      "display_name": "Python 3"
    },
    "language_info": {
      "name": "python"
    }
  },
  "cells": [
    {
      "cell_type": "markdown",
      "metadata": {
        "id": "view-in-github",
        "colab_type": "text"
      },
      "source": [
        "<a href=\"https://colab.research.google.com/github/vvithurshan/DL_Practice/blob/main/Loss_Function.ipynb\" target=\"_parent\"><img src=\"https://colab.research.google.com/assets/colab-badge.svg\" alt=\"Open In Colab\"/></a>"
      ]
    },
    {
      "cell_type": "code",
      "execution_count": 1,
      "metadata": {
        "id": "VGZy41rEVPWq"
      },
      "outputs": [],
      "source": [
        "import numpy as np\n",
        "import torch"
      ]
    },
    {
      "cell_type": "code",
      "source": [
        "y = torch.tensor([0., 0., 1., 0., 0.])\n",
        "y_pred = torch.tensor([1., 2., -1., 3., -2.])\n",
        "\n",
        "Loss = torch.nn.CrossEntropyLoss()\n",
        "loss = Loss(torch.tensor(y_pred), torch.tensor(y))\n",
        "print(loss)"
      ],
      "metadata": {
        "colab": {
          "base_uri": "https://localhost:8080/"
        },
        "id": "NNa8QD4tVS-v",
        "outputId": "6b1dd662-85fc-4a27-8fb3-3047d3cf7f0b"
      },
      "execution_count": 9,
      "outputs": [
        {
          "output_type": "stream",
          "name": "stdout",
          "text": [
            "tensor(4.4241)\n"
          ]
        },
        {
          "output_type": "stream",
          "name": "stderr",
          "text": [
            "<ipython-input-9-ea2592f68e20>:5: UserWarning: To copy construct from a tensor, it is recommended to use sourceTensor.clone().detach() or sourceTensor.clone().detach().requires_grad_(True), rather than torch.tensor(sourceTensor).\n",
            "  loss = Loss(torch.tensor(y_pred), torch.tensor(y))\n"
          ]
        }
      ]
    },
    {
      "cell_type": "code",
      "source": [
        "softmax = torch.exp(y_pred)/torch.sum(torch.exp(y_pred))\n",
        "softmax"
      ],
      "metadata": {
        "colab": {
          "base_uri": "https://localhost:8080/"
        },
        "id": "zZmt2U1JV3Gk",
        "outputId": "e2f3bf1b-f635-4365-addf-aef5f71ba2ab"
      },
      "execution_count": 11,
      "outputs": [
        {
          "output_type": "execute_result",
          "data": {
            "text/plain": [
              "tensor([0.0886, 0.2407, 0.0120, 0.6543, 0.0044])"
            ]
          },
          "metadata": {},
          "execution_count": 11
        }
      ]
    },
    {
      "cell_type": "code",
      "source": [
        "# prompt: write a function for crossEntropyLoss\n",
        "\n",
        "import numpy as np\n",
        "import torch\n",
        "\n",
        "def cross_entropy_loss(y_true, y_pred):\n",
        "  \"\"\"\n",
        "  Calculates the cross-entropy loss between predicted and true labels.\n",
        "\n",
        "  Args:\n",
        "    y_true: A tensor of true labels (one-hot encoded).\n",
        "    y_pred: A tensor of predicted logits.\n",
        "\n",
        "  Returns:\n",
        "    The cross-entropy loss.\n",
        "  \"\"\"\n",
        "\n",
        "  # Calculate softmax of the predictions\n",
        "  softmax_preds = torch.exp(y_pred) / torch.sum(torch.exp(y_pred))\n",
        "\n",
        "  # Calculate cross-entropy loss\n",
        "  loss = -torch.sum(y_true * torch.log(softmax_preds))\n",
        "\n",
        "  return loss\n",
        "\n",
        "# Example usage (using the provided data):\n",
        "y = torch.tensor([0., 0., 1., 0., 0.])\n",
        "y_pred = torch.tensor([1., 2., -1., 3., -2.])\n",
        "\n",
        "loss = cross_entropy_loss(y, y_pred)\n",
        "loss\n"
      ],
      "metadata": {
        "colab": {
          "base_uri": "https://localhost:8080/"
        },
        "id": "UoZYGsCIW_YC",
        "outputId": "59e3d82f-7825-4de1-a8ef-16fc32d0c0d2"
      },
      "execution_count": 12,
      "outputs": [
        {
          "output_type": "execute_result",
          "data": {
            "text/plain": [
              "tensor(4.4241)"
            ]
          },
          "metadata": {},
          "execution_count": 12
        }
      ]
    },
    {
      "cell_type": "code",
      "source": [
        "# write yourself\n",
        "# correct\n",
        "def my_cross_entropy_loss(y_true, y_pred):\n",
        "    softmax_preds = torch.exp(y_pred) / torch.sum(torch.exp(y_pred))\n",
        "    loss = - torch.sum(y_true * torch.log(softmax_preds))\n",
        "    return loss\n",
        "\n",
        "my_cross_entropy_loss(y, y_pred)"
      ],
      "metadata": {
        "colab": {
          "base_uri": "https://localhost:8080/"
        },
        "id": "vLevlrAqZLts",
        "outputId": "b390340f-7198-4064-acc6-e8676e56706c"
      },
      "execution_count": 18,
      "outputs": [
        {
          "output_type": "execute_result",
          "data": {
            "text/plain": [
              "tensor(4.4241)"
            ]
          },
          "metadata": {},
          "execution_count": 18
        }
      ]
    },
    {
      "cell_type": "code",
      "source": [
        "def my_cross_entropy_loss(y_true, y_pred):\n",
        "    softmax_preds = torch.exp(y_pred) / torch.sum(torch.exp(y_pred))\n",
        "    loss = - torch.sum(y_true * torch.log(softmax_preds))\n",
        "    return loss\n",
        "\n",
        "my_cross_entropy_loss(y, y_pred)"
      ],
      "metadata": {
        "colab": {
          "base_uri": "https://localhost:8080/"
        },
        "id": "ZsM0Mv-iZjVB",
        "outputId": "2f53b617-7d74-444f-c80d-a1ab3cf9d1c7"
      },
      "execution_count": 23,
      "outputs": [
        {
          "output_type": "execute_result",
          "data": {
            "text/plain": [
              "tensor(4.4241)"
            ]
          },
          "metadata": {},
          "execution_count": 23
        }
      ]
    },
    {
      "cell_type": "code",
      "source": [
        "def my_cross_entropy(y_true, y_pred):\n",
        "    softmax_pred = torch.exp(y_pred) / torch.sum(torch.exp(y_pred))\n",
        "    loss = - torch.sum(y_true * torch.log(softmax_pred))\n",
        "    return loss\n",
        "my_cross_entropy_loss(y, y_pred)"
      ],
      "metadata": {
        "colab": {
          "base_uri": "https://localhost:8080/"
        },
        "id": "1FuK8pgdaiM5",
        "outputId": "9805ac22-0ccc-4906-a68d-3fb8988ae05d"
      },
      "execution_count": 25,
      "outputs": [
        {
          "output_type": "execute_result",
          "data": {
            "text/plain": [
              "tensor(4.4241)"
            ]
          },
          "metadata": {},
          "execution_count": 25
        }
      ]
    },
    {
      "cell_type": "code",
      "source": [],
      "metadata": {
        "id": "PGja7qaKbHjg"
      },
      "execution_count": null,
      "outputs": []
    }
  ]
}