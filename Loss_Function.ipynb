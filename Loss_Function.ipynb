{
  "nbformat": 4,
  "nbformat_minor": 0,
  "metadata": {
    "colab": {
      "provenance": [],
      "authorship_tag": "ABX9TyO3bW7Dxd9TypaEWEYe4+pM",
      "include_colab_link": true
    },
    "kernelspec": {
      "name": "python3",
      "display_name": "Python 3"
    },
    "language_info": {
      "name": "python"
    }
  },
  "cells": [
    {
      "cell_type": "markdown",
      "metadata": {
        "id": "view-in-github",
        "colab_type": "text"
      },
      "source": [
        "<a href=\"https://colab.research.google.com/github/vvithurshan/DL_Practice/blob/main/Loss_Function.ipynb\" target=\"_parent\"><img src=\"https://colab.research.google.com/assets/colab-badge.svg\" alt=\"Open In Colab\"/></a>"
      ]
    },
    {
      "cell_type": "code",
      "execution_count": 2,
      "metadata": {
        "id": "VGZy41rEVPWq"
      },
      "outputs": [],
      "source": [
        "import numpy as np\n",
        "import torch"
      ]
    },
    {
      "cell_type": "markdown",
      "source": [
        "## Multiclass Classification"
      ],
      "metadata": {
        "id": "Jgf5VbkNdGsu"
      }
    },
    {
      "cell_type": "code",
      "source": [
        "y = torch.tensor([0., 0., 1., 0., 0.])\n",
        "y_pred = torch.tensor([1., 2., -1., 3., -2.])\n",
        "\n",
        "Loss = torch.nn.CrossEntropyLoss()\n",
        "loss = Loss(torch.tensor(y_pred), torch.tensor(y))\n",
        "print(loss)"
      ],
      "metadata": {
        "colab": {
          "base_uri": "https://localhost:8080/"
        },
        "id": "NNa8QD4tVS-v",
        "outputId": "6b1dd662-85fc-4a27-8fb3-3047d3cf7f0b"
      },
      "execution_count": null,
      "outputs": [
        {
          "output_type": "stream",
          "name": "stdout",
          "text": [
            "tensor(4.4241)\n"
          ]
        },
        {
          "output_type": "stream",
          "name": "stderr",
          "text": [
            "<ipython-input-9-ea2592f68e20>:5: UserWarning: To copy construct from a tensor, it is recommended to use sourceTensor.clone().detach() or sourceTensor.clone().detach().requires_grad_(True), rather than torch.tensor(sourceTensor).\n",
            "  loss = Loss(torch.tensor(y_pred), torch.tensor(y))\n"
          ]
        }
      ]
    },
    {
      "cell_type": "code",
      "source": [
        "softmax = torch.exp(y_pred)/torch.sum(torch.exp(y_pred))\n",
        "softmax"
      ],
      "metadata": {
        "colab": {
          "base_uri": "https://localhost:8080/"
        },
        "id": "zZmt2U1JV3Gk",
        "outputId": "e2f3bf1b-f635-4365-addf-aef5f71ba2ab"
      },
      "execution_count": null,
      "outputs": [
        {
          "output_type": "execute_result",
          "data": {
            "text/plain": [
              "tensor([0.0886, 0.2407, 0.0120, 0.6543, 0.0044])"
            ]
          },
          "metadata": {},
          "execution_count": 11
        }
      ]
    },
    {
      "cell_type": "code",
      "source": [
        "# prompt: write a function for crossEntropyLoss\n",
        "\n",
        "import numpy as np\n",
        "import torch\n",
        "\n",
        "def cross_entropy_loss(y_true, y_pred):\n",
        "  \"\"\"\n",
        "  Calculates the cross-entropy loss between predicted and true labels.\n",
        "\n",
        "  Args:\n",
        "    y_true: A tensor of true labels (one-hot encoded).\n",
        "    y_pred: A tensor of predicted logits.\n",
        "\n",
        "  Returns:\n",
        "    The cross-entropy loss.\n",
        "  \"\"\"\n",
        "\n",
        "  # Calculate softmax of the predictions\n",
        "  softmax_preds = torch.exp(y_pred) / torch.sum(torch.exp(y_pred))\n",
        "\n",
        "  # Calculate cross-entropy loss\n",
        "  loss = -torch.sum(y_true * torch.log(softmax_preds))\n",
        "\n",
        "  return loss\n",
        "\n",
        "# Example usage (using the provided data):\n",
        "y = torch.tensor([0., 0., 1., 0., 0.])\n",
        "y_pred = torch.tensor([1., 2., -1., 3., -2.])\n",
        "\n",
        "loss = cross_entropy_loss(y, y_pred)\n",
        "loss\n"
      ],
      "metadata": {
        "colab": {
          "base_uri": "https://localhost:8080/"
        },
        "id": "UoZYGsCIW_YC",
        "outputId": "59e3d82f-7825-4de1-a8ef-16fc32d0c0d2"
      },
      "execution_count": null,
      "outputs": [
        {
          "output_type": "execute_result",
          "data": {
            "text/plain": [
              "tensor(4.4241)"
            ]
          },
          "metadata": {},
          "execution_count": 12
        }
      ]
    },
    {
      "cell_type": "code",
      "source": [
        "# write yourself\n",
        "# correct\n",
        "def my_cross_entropy_loss(y_true, y_pred):\n",
        "    softmax_preds = torch.exp(y_pred) / torch.sum(torch.exp(y_pred))\n",
        "    loss = - torch.sum(y_true * torch.log(softmax_preds))\n",
        "    return loss\n",
        "\n",
        "my_cross_entropy_loss(y, y_pred)"
      ],
      "metadata": {
        "colab": {
          "base_uri": "https://localhost:8080/"
        },
        "id": "vLevlrAqZLts",
        "outputId": "b390340f-7198-4064-acc6-e8676e56706c"
      },
      "execution_count": null,
      "outputs": [
        {
          "output_type": "execute_result",
          "data": {
            "text/plain": [
              "tensor(4.4241)"
            ]
          },
          "metadata": {},
          "execution_count": 18
        }
      ]
    },
    {
      "cell_type": "code",
      "source": [
        "def my_cross_entropy_loss(y_true, y_pred):\n",
        "    softmax_preds = torch.exp(y_pred) / torch.sum(torch.exp(y_pred))\n",
        "    loss = - torch.sum(y_true * torch.log(softmax_preds))\n",
        "    return loss\n",
        "\n",
        "my_cross_entropy_loss(y, y_pred)"
      ],
      "metadata": {
        "colab": {
          "base_uri": "https://localhost:8080/"
        },
        "id": "ZsM0Mv-iZjVB",
        "outputId": "2f53b617-7d74-444f-c80d-a1ab3cf9d1c7"
      },
      "execution_count": null,
      "outputs": [
        {
          "output_type": "execute_result",
          "data": {
            "text/plain": [
              "tensor(4.4241)"
            ]
          },
          "metadata": {},
          "execution_count": 23
        }
      ]
    },
    {
      "cell_type": "code",
      "source": [
        "def my_cross_entropy(y_true, y_pred):\n",
        "    softmax_pred = torch.exp(y_pred) / torch.sum(torch.exp(y_pred))\n",
        "    loss = - torch.sum(y_true * torch.log(softmax_pred))\n",
        "    return loss\n",
        "my_cross_entropy_loss(y, y_pred)"
      ],
      "metadata": {
        "colab": {
          "base_uri": "https://localhost:8080/"
        },
        "id": "1FuK8pgdaiM5",
        "outputId": "9805ac22-0ccc-4906-a68d-3fb8988ae05d"
      },
      "execution_count": null,
      "outputs": [
        {
          "output_type": "execute_result",
          "data": {
            "text/plain": [
              "tensor(4.4241)"
            ]
          },
          "metadata": {},
          "execution_count": 25
        }
      ]
    },
    {
      "cell_type": "markdown",
      "source": [
        "## Binary Cross Entropy"
      ],
      "metadata": {
        "id": "LF-WIumJdMiq"
      }
    },
    {
      "cell_type": "code",
      "source": [
        "y = torch.tensor([0., 0., 1., 1., 0.])\n",
        "y_pred = torch.tensor([-5., -10., 15., 10., -4.])\n",
        "\n",
        "def Sigmoid(y_pred):\n",
        "    z = 1/(1 + torch.exp(- y_pred))\n",
        "    return z\n",
        "\n",
        "sigmoid_pred = Sigmoid(y_pred)\n",
        "Loss = torch.nn.BCELoss()\n",
        "loss = Loss(sigmoid_pred, y)\n",
        "print(loss)"
      ],
      "metadata": {
        "id": "SeRgo0dQdP7O",
        "outputId": "4e38eb45-6917-4b88-c6d0-5445e2b14480",
        "colab": {
          "base_uri": "https://localhost:8080/"
        }
      },
      "execution_count": 35,
      "outputs": [
        {
          "output_type": "stream",
          "name": "stdout",
          "text": [
            "tensor(0.0050)\n"
          ]
        }
      ]
    },
    {
      "cell_type": "code",
      "source": [
        "def BCELoss(y_true, y_pred):\n",
        "    sigmoid_pred = 1/(1 + torch.exp(-y_pred))\n",
        "    print(sigmoid_pred)\n",
        "    loss = torch.mean(-(1 - y_true)*torch.log(1 - sigmoid_pred) - y_true * torch.log(sigmoid_pred))\n",
        "    return loss\n",
        "\n",
        "loss = BCELoss(y, y_pred)\n",
        "print(loss)"
      ],
      "metadata": {
        "id": "jp6u5HGyd_CP",
        "outputId": "71d31b89-8f90-4bd8-bbde-aabcd40d5e92",
        "colab": {
          "base_uri": "https://localhost:8080/"
        }
      },
      "execution_count": 38,
      "outputs": [
        {
          "output_type": "stream",
          "name": "stdout",
          "text": [
            "tensor([6.6929e-03, 4.5398e-05, 1.0000e+00, 9.9995e-01, 1.7986e-02])\n",
            "tensor(0.0050)\n"
          ]
        }
      ]
    },
    {
      "cell_type": "code",
      "source": [
        "def myBCELoss(y_true, y_pred):\n",
        "    sigmoid_pred = 1/(1 + torch.exp(-y_pred))\n",
        "    loss = torch.mean(-(1 - y_true) * torch.log(1 - sigmoid_pred) - y_true * torch.log(sigmoid_pred))\n",
        "    return loss\n",
        "loss = myBCELoss(y, y_pred)\n",
        "print(loss)\n"
      ],
      "metadata": {
        "id": "JKB25Bn1h4ZJ",
        "outputId": "3fa1f332-646b-42f2-9ab6-9ce3ebe53994",
        "colab": {
          "base_uri": "https://localhost:8080/"
        }
      },
      "execution_count": 41,
      "outputs": [
        {
          "output_type": "stream",
          "name": "stdout",
          "text": [
            "tensor(0.0050)\n"
          ]
        }
      ]
    },
    {
      "cell_type": "code",
      "source": [
        "def myBCELoss(y_true, y_pred):\n",
        "    sigmoid_pred = 1/(1 + torch.exp(-y_pred))\n",
        "    loss = torch.mean(-(1-y_true) * torch.log(1 - sigmoid_pred) - y_true * torch.log(sigmoid_pred))\n",
        "    return loss\n",
        "\n",
        "loss = myBCELoss(y, y_pred)\n",
        "print(loss)"
      ],
      "metadata": {
        "id": "mlhspvP-kRF9",
        "outputId": "bcd30690-53d5-4c52-de75-d0880ffc54be",
        "colab": {
          "base_uri": "https://localhost:8080/"
        }
      },
      "execution_count": 43,
      "outputs": [
        {
          "output_type": "stream",
          "name": "stdout",
          "text": [
            "tensor(0.0050)\n"
          ]
        }
      ]
    },
    {
      "cell_type": "code",
      "source": [],
      "metadata": {
        "id": "zlUOxsO9k0ev"
      },
      "execution_count": null,
      "outputs": []
    }
  ]
}